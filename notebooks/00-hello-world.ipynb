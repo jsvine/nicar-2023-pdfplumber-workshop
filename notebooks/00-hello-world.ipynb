{
 "cells": [
  {
   "cell_type": "markdown",
   "id": "4b3ffa80-bbb2-48ce-820e-efddb6d27dd8",
   "metadata": {},
   "source": [
    "# Hello World: `pdfplumber` basics"
   ]
  },
  {
   "cell_type": "markdown",
   "id": "5d97e74c-628b-4fd9-9c0e-1926f8a6bc98",
   "metadata": {},
   "source": [
    "## First things first"
   ]
  },
  {
   "cell_type": "markdown",
   "id": "8691bea2-49f3-43d7-a73f-8f71a97292bf",
   "metadata": {},
   "source": [
    "#### Load the library"
   ]
  },
  {
   "cell_type": "code",
   "execution_count": 1,
   "id": "aa8f011a-1554-41eb-8ea7-d1504537facf",
   "metadata": {},
   "outputs": [],
   "source": [
    "import pdfplumber"
   ]
  },
  {
   "cell_type": "markdown",
   "id": "155ce5c7-d80b-4d62-af5d-851fa481487c",
   "metadata": {},
   "source": [
    "#### Open the PDF"
   ]
  },
  {
   "cell_type": "code",
   "execution_count": 2,
   "id": "ed175923-f07d-4ee6-9ea3-71f7006eeff1",
   "metadata": {},
   "outputs": [],
   "source": [
    "pdf = pdfplumber.open(\"../pdfs/00-hello-world.pdf\")"
   ]
  },
  {
   "cell_type": "markdown",
   "id": "792f36e3-c44c-473e-b8b2-9f541ad25fa8",
   "metadata": {},
   "source": [
    "#### How many pages in the PDF?"
   ]
  },
  {
   "cell_type": "code",
   "execution_count": 3,
   "id": "e73e8e0d-f052-4d3d-97d0-b0b3a32aa31a",
   "metadata": {},
   "outputs": [
    {
     "data": {
      "text/plain": [
       "1"
      ]
     },
     "execution_count": 3,
     "metadata": {},
     "output_type": "execute_result"
    }
   ],
   "source": [
    "len(pdf.pages)"
   ]
  },
  {
   "cell_type": "markdown",
   "id": "20b1035d-2b15-485d-a7fa-dd9c42ca2639",
   "metadata": {},
   "source": [
    "#### Select that first/only page"
   ]
  },
  {
   "cell_type": "code",
   "execution_count": 4,
   "id": "eda739c7-75ac-400f-a572-96222c90b057",
   "metadata": {},
   "outputs": [
    {
     "data": {
      "text/plain": [
       "<Page:1>"
      ]
     },
     "execution_count": 4,
     "metadata": {},
     "output_type": "execute_result"
    }
   ],
   "source": [
    "page = pdf.pages[0]\n",
    "page"
   ]
  },
  {
   "cell_type": "markdown",
   "id": "73318989-34c0-407a-bc1b-c798bb938eaf",
   "metadata": {},
   "source": [
    "## Text"
   ]
  },
  {
   "cell_type": "markdown",
   "id": "e0f1327c-69d0-475e-b5b5-6ca5b14a0069",
   "metadata": {},
   "source": [
    "#### Read the text"
   ]
  },
  {
   "cell_type": "code",
   "execution_count": 5,
   "id": "7007647b-67b2-4fed-8632-c86d8fb01381",
   "metadata": {},
   "outputs": [
    {
     "data": {
      "text/plain": [
       "'Hello, World!'"
      ]
     },
     "execution_count": 5,
     "metadata": {},
     "output_type": "execute_result"
    }
   ],
   "source": [
    "page.extract_text()"
   ]
  },
  {
   "cell_type": "markdown",
   "id": "719f952d-6afb-4647-8a44-03bb4147bdbf",
   "metadata": {},
   "source": [
    "#### Where does that text come from? The `page.chars` list:"
   ]
  },
  {
   "cell_type": "code",
   "execution_count": 6,
   "id": "05561bf2-fd51-4236-9bc9-f13b45b47443",
   "metadata": {},
   "outputs": [
    {
     "data": {
      "text/plain": [
       "13"
      ]
     },
     "execution_count": 6,
     "metadata": {},
     "output_type": "execute_result"
    }
   ],
   "source": [
    "len(page.chars)"
   ]
  },
  {
   "cell_type": "markdown",
   "id": "312f3c64-38d3-418b-8318-2e54532ae3ca",
   "metadata": {},
   "source": [
    "#### What does an individual character look like?"
   ]
  },
  {
   "cell_type": "code",
   "execution_count": 7,
   "id": "b9a8ff59-2c0a-4be7-ae75-b86e40067996",
   "metadata": {},
   "outputs": [
    {
     "data": {
      "text/plain": [
       "{'matrix': (1, 0, 0, 1, 50, 260),\n",
       " 'fontname': 'Times-Roman',\n",
       " 'adv': 25.991999999999997,\n",
       " 'upright': True,\n",
       " 'x0': 50.0,\n",
       " 'y0': 252.188,\n",
       " 'x1': 75.99199999999999,\n",
       " 'y1': 288.188,\n",
       " 'width': 25.99199999999999,\n",
       " 'height': 36.0,\n",
       " 'size': 36.0,\n",
       " 'object_type': 'char',\n",
       " 'page_number': 1,\n",
       " 'text': 'H',\n",
       " 'stroking_color': None,\n",
       " 'non_stroking_color': (0.2, 0.5, 0.2),\n",
       " 'top': 31.812000000000012,\n",
       " 'bottom': 67.81200000000001,\n",
       " 'doctop': 31.812000000000012}"
      ]
     },
     "execution_count": 7,
     "metadata": {},
     "output_type": "execute_result"
    }
   ],
   "source": [
    "page.chars[0]"
   ]
  },
  {
   "cell_type": "markdown",
   "id": "2909b7b9-c744-448b-acb3-30488a562a6b",
   "metadata": {},
   "source": [
    "## Paths (lines, rects, and curves)"
   ]
  },
  {
   "cell_type": "markdown",
   "id": "8862a8f8",
   "metadata": {},
   "source": [
    "#### Lines"
   ]
  },
  {
   "cell_type": "code",
   "execution_count": 8,
   "id": "e7d54b67",
   "metadata": {},
   "outputs": [
    {
     "data": {
      "text/plain": [
       "[{'x0': 50,\n",
       "  'y0': 160,\n",
       "  'x1': 350,\n",
       "  'y1': 160,\n",
       "  'width': 300,\n",
       "  'height': 0,\n",
       "  'pts': [(50, 160), (350, 160)],\n",
       "  'linewidth': 0,\n",
       "  'stroke': True,\n",
       "  'fill': False,\n",
       "  'evenodd': False,\n",
       "  'stroking_color': None,\n",
       "  'non_stroking_color': None,\n",
       "  'object_type': 'line',\n",
       "  'page_number': 1,\n",
       "  'top': 160,\n",
       "  'bottom': 160,\n",
       "  'doctop': 160},\n",
       " {'x0': 50,\n",
       "  'y0': 140,\n",
       "  'x1': 350,\n",
       "  'y1': 140,\n",
       "  'width': 300,\n",
       "  'height': 0,\n",
       "  'pts': [(50, 180), (350, 180)],\n",
       "  'linewidth': 0,\n",
       "  'stroke': True,\n",
       "  'fill': False,\n",
       "  'evenodd': False,\n",
       "  'stroking_color': None,\n",
       "  'non_stroking_color': None,\n",
       "  'object_type': 'line',\n",
       "  'page_number': 1,\n",
       "  'top': 180,\n",
       "  'bottom': 180,\n",
       "  'doctop': 180}]"
      ]
     },
     "execution_count": 8,
     "metadata": {},
     "output_type": "execute_result"
    }
   ],
   "source": [
    "page.lines"
   ]
  },
  {
   "cell_type": "markdown",
   "id": "8117da81",
   "metadata": {},
   "source": [
    "#### Rectangles"
   ]
  },
  {
   "cell_type": "code",
   "execution_count": 9,
   "id": "6e074f26",
   "metadata": {},
   "outputs": [
    {
     "data": {
      "text/plain": [
       "[{'x0': 50,\n",
       "  'y0': 200,\n",
       "  'x1': 250,\n",
       "  'y1': 220,\n",
       "  'width': 200,\n",
       "  'height': 20,\n",
       "  'pts': [(50, 120), (250, 120), (250, 100), (50, 100)],\n",
       "  'linewidth': 0,\n",
       "  'stroke': True,\n",
       "  'fill': True,\n",
       "  'evenodd': False,\n",
       "  'stroking_color': (0.5, 0, 1),\n",
       "  'non_stroking_color': (0.9, 0.9, 0.9),\n",
       "  'object_type': 'rect',\n",
       "  'page_number': 1,\n",
       "  'top': 100,\n",
       "  'bottom': 120,\n",
       "  'doctop': 100}]"
      ]
     },
     "execution_count": 9,
     "metadata": {},
     "output_type": "execute_result"
    }
   ],
   "source": [
    "page.rects"
   ]
  },
  {
   "cell_type": "markdown",
   "id": "f759a381",
   "metadata": {},
   "source": [
    "#### Curves"
   ]
  },
  {
   "cell_type": "code",
   "execution_count": 10,
   "id": "5d82c2bd",
   "metadata": {},
   "outputs": [
    {
     "data": {
      "text/plain": [
       "[{'x0': 50,\n",
       "  'y0': 50,\n",
       "  'x1': 150,\n",
       "  'y1': 100,\n",
       "  'width': 100,\n",
       "  'height': 50,\n",
       "  'pts': [(50, 220), (70, 270), (90, 220), (110, 270), (130, 220), (150, 270)],\n",
       "  'linewidth': 2,\n",
       "  'stroke': True,\n",
       "  'fill': False,\n",
       "  'evenodd': False,\n",
       "  'stroking_color': None,\n",
       "  'non_stroking_color': None,\n",
       "  'object_type': 'curve',\n",
       "  'page_number': 1,\n",
       "  'top': 220,\n",
       "  'bottom': 270,\n",
       "  'doctop': 220}]"
      ]
     },
     "execution_count": 10,
     "metadata": {},
     "output_type": "execute_result"
    }
   ],
   "source": [
    "page.curves"
   ]
  },
  {
   "cell_type": "markdown",
   "id": "46bd44ed-5b2a-4d33-a092-423ee121ddeb",
   "metadata": {},
   "source": [
    "## Visual debugging"
   ]
  },
  {
   "cell_type": "code",
   "execution_count": 11,
   "id": "0b89ee97-ae0d-44e1-bf63-20217a927111",
   "metadata": {},
   "outputs": [
    {
     "data": {
      "image/png": "[encoded data removed]",
      "text/plain": [
       "<pdfplumber.display.PageImage at 0x10811f040>"
      ]
     },
     "execution_count": 11,
     "metadata": {},
     "output_type": "execute_result"
    }
   ],
   "source": [
    "im = page.to_image()\n",
    "im"
   ]
  },
  {
   "cell_type": "markdown",
   "id": "9bb15645",
   "metadata": {},
   "source": [
    "#### Flag the `.chars`"
   ]
  },
  {
   "cell_type": "code",
   "execution_count": 12,
   "id": "6fb762fa",
   "metadata": {},
   "outputs": [
    {
     "data": {
      "image/png": "[encoded data removed]",
      "text/plain": [
       "<pdfplumber.display.PageImage at 0x10811f040>"
      ]
     },
     "execution_count": 12,
     "metadata": {},
     "output_type": "execute_result"
    }
   ],
   "source": [
    "im.reset()\n",
    "im.draw_rects(page.chars)"
   ]
  },
  {
   "cell_type": "markdown",
   "id": "14a8de69",
   "metadata": {},
   "source": [
    "#### Flag the `.rects`"
   ]
  },
  {
   "cell_type": "code",
   "execution_count": 13,
   "id": "18328a3c",
   "metadata": {},
   "outputs": [
    {
     "data": {
      "image/png": "[encoded data removed]",
      "text/plain": [
       "<pdfplumber.display.PageImage at 0x10811f040>"
      ]
     },
     "execution_count": 13,
     "metadata": {},
     "output_type": "execute_result"
    }
   ],
   "source": [
    "im.reset()\n",
    "im.draw_rects(page.rects)\n",
    "im.draw_rects(page.curves)"
   ]
  },
  {
   "cell_type": "markdown",
   "id": "d6327ef9",
   "metadata": {},
   "source": [
    "#### Flag all curves"
   ]
  },
  {
   "cell_type": "code",
   "execution_count": 14,
   "id": "5f29bd6d",
   "metadata": {},
   "outputs": [
    {
     "data": {
      "image/png": "[encoded data removed]",
      "text/plain": [
       "<pdfplumber.display.PageImage at 0x10811f040>"
      ]
     },
     "execution_count": 14,
     "metadata": {},
     "output_type": "execute_result"
    }
   ],
   "source": [
    "im.reset()\n",
    "im.draw_lines(page.edges, stroke_width=3)"
   ]
  },
  {
   "cell_type": "markdown",
   "id": "22a0687d-4cbf-4f64-95a1-f28e4d89967e",
   "metadata": {},
   "source": [
    "---\n",
    "\n",
    "---\n",
    "\n",
    "---"
   ]
  }
 ],
 "metadata": {
  "kernelspec": {
   "display_name": "Python 3 (ipykernel)",
   "language": "python",
   "name": "python3"
  },
  "language_info": {
   "codemirror_mode": {
    "name": "ipython",
    "version": 3
   },
   "file_extension": ".py",
   "mimetype": "text/x-python",
   "name": "python",
   "nbconvert_exporter": "python",
   "pygments_lexer": "ipython3",
   "version": "3.10.4"
  }
 },
 "nbformat": 4,
 "nbformat_minor": 5
}
